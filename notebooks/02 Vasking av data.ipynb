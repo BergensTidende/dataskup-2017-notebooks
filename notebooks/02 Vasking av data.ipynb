{
 "cells": [
  {
   "cell_type": "markdown",
   "metadata": {},
   "source": [
    "# 02 Vasking av data\n",
    "Vi importerer et offentlig datasett og ser på vanlige vaskemidler"
   ]
  },
  {
   "cell_type": "code",
   "execution_count": 2,
   "metadata": {
    "collapsed": true
   },
   "outputs": [],
   "source": [
    "import pandas as pd"
   ]
  },
  {
   "cell_type": "markdown",
   "metadata": {},
   "source": [
    "Vi bruker her oversikten over lusetellinger fra fiskehelse.no/ Mattilsynet igjen"
   ]
  },
  {
   "cell_type": "code",
   "execution_count": 9,
   "metadata": {},
   "outputs": [],
   "source": [
    "df = pd.read_excel('data/fiskehelse_2017-10-27-lakselus_per_fisk.xlsx')"
   ]
  },
  {
   "cell_type": "markdown",
   "metadata": {},
   "source": [
    "### Fikk vi med alle rader og kolonner?\n",
    "Ta en kikk i Excel-filen din og se etter antall rader og antall kolonner og sammenlikn med tallet du med bruk av `df.shape`. Det første tallet er rader, det andre er kolonner"
   ]
  },
  {
   "cell_type": "code",
   "execution_count": 11,
   "metadata": {},
   "outputs": [
    {
     "data": {
      "text/plain": [
       "(61757, 16)"
      ]
     },
     "execution_count": 11,
     "metadata": {},
     "output_type": "execute_result"
    }
   ],
   "source": [
    "df.shape"
   ]
  },
  {
   "cell_type": "markdown",
   "metadata": {},
   "source": [
    "### Hvilke kolonner har vi og hva slags datatype har de?"
   ]
  },
  {
   "cell_type": "code",
   "execution_count": 12,
   "metadata": {},
   "outputs": [
    {
     "name": "stdout",
     "output_type": "stream",
     "text": [
      "<class 'pandas.core.frame.DataFrame'>\n",
      "RangeIndex: 61757 entries, 0 to 61756\n",
      "Data columns (total 16 columns):\n",
      "Uke                         61757 non-null int64\n",
      "År                          61757 non-null int64\n",
      "Lokalitetsnummer            61757 non-null int64\n",
      "Lokalitetsnavn              45683 non-null object\n",
      "Voksne hunnlus              22190 non-null float64\n",
      "Lus i bevegelige stadier    22190 non-null float64\n",
      "Fastsittende lus            22190 non-null float64\n",
      "Brakklagt                   61757 non-null object\n",
      "Kommune                     45683 non-null object\n",
      "Fylkesnummer                45683 non-null float64\n",
      "Fylke                       45683 non-null object\n",
      "Lat                         45683 non-null float64\n",
      "Lon                         45683 non-null float64\n",
      "Lusegrense uke              61757 non-null object\n",
      "Over lusegrense uke         38254 non-null object\n",
      "Sjøtemperatur               23602 non-null float64\n",
      "dtypes: float64(7), int64(3), object(6)\n",
      "memory usage: 7.5+ MB\n"
     ]
    }
   ],
   "source": [
    "df.info()"
   ]
  },
  {
   "cell_type": "markdown",
   "metadata": {},
   "source": [
    "**Forklaring**: `int64` betyr heltall, `object` betyr som regel at det er tekst, `float64` betyr et tall med desimaler. "
   ]
  },
  {
   "cell_type": "markdown",
   "metadata": {},
   "source": [
    "### Fjern kolonner du ikke trenger\n",
    "Gjør det det mer oversiktlig å jobbe med. Her kan vi fjerne `lat` og `lon` kolonnene som angir kartreferanse."
   ]
  },
  {
   "cell_type": "code",
   "execution_count": 18,
   "metadata": {},
   "outputs": [],
   "source": [
    "df = df.drop(['Lat', 'Lon'], axis=1)"
   ]
  },
  {
   "cell_type": "markdown",
   "metadata": {},
   "source": [
    "**Forklaring**: Her lager vi en ny DataFrame med samme navnet, der vi dropper kolonnene Lat og Lon. \n",
    "`axis=1` betyr at det er kolonner vi skal droppe, 0 betyr rader."
   ]
  }
 ],
 "metadata": {
  "kernelspec": {
   "display_name": "Python 3",
   "language": "python",
   "name": "python3"
  },
  "language_info": {
   "codemirror_mode": {
    "name": "ipython",
    "version": 3
   },
   "file_extension": ".py",
   "mimetype": "text/x-python",
   "name": "python",
   "nbconvert_exporter": "python",
   "pygments_lexer": "ipython3",
   "version": "3.6.1"
  }
 },
 "nbformat": 4,
 "nbformat_minor": 2
}
