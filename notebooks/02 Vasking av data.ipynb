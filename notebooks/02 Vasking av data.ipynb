{
 "cells": [
  {
   "cell_type": "markdown",
   "metadata": {},
   "source": [
    "# 02 Vasking av data\n",
    "Vi importerer et offentlig datasett og ser på vanlige vaskemidler"
   ]
  },
  {
   "cell_type": "code",
   "execution_count": 22,
   "metadata": {
    "collapsed": true
   },
   "outputs": [],
   "source": [
    "import pandas as pd"
   ]
  },
  {
   "cell_type": "markdown",
   "metadata": {},
   "source": [
    "Vi bruker her oversikten over lusetellinger fra fiskehelse.no/ Mattilsynet igjen"
   ]
  },
  {
   "cell_type": "code",
   "execution_count": 99,
   "metadata": {
    "collapsed": true
   },
   "outputs": [],
   "source": [
    "df = pd.read_excel('data/fiskehelse_2017-10-27-lakselus_per_fisk.xlsx')"
   ]
  },
  {
   "cell_type": "markdown",
   "metadata": {},
   "source": [
    "### Fikk vi med alle rader og kolonner?\n",
    "Ta en kikk i Excel-filen din og se etter antall rader og antall kolonner og sammenlikn med tallet du med bruk av `df.shape`. "
   ]
  },
  {
   "cell_type": "code",
   "execution_count": 100,
   "metadata": {},
   "outputs": [
    {
     "data": {
      "text/plain": [
       "(61757, 16)"
      ]
     },
     "execution_count": 100,
     "metadata": {},
     "output_type": "execute_result"
    }
   ],
   "source": [
    "df.shape"
   ]
  },
  {
   "cell_type": "markdown",
   "metadata": {},
   "source": [
    "Det første tallet er rader, det andre er kolonner. Vi har altså over 61.000 rader"
   ]
  },
  {
   "cell_type": "markdown",
   "metadata": {},
   "source": [
    "### Ta en sjekk for å se at dataene ser ok ut\n",
    "Vi sjekker topp og bunn"
   ]
  },
  {
   "cell_type": "code",
   "execution_count": 102,
   "metadata": {},
   "outputs": [
    {
     "data": {
      "text/html": [
       "<div>\n",
       "<style>\n",
       "    .dataframe thead tr:only-child th {\n",
       "        text-align: right;\n",
       "    }\n",
       "\n",
       "    .dataframe thead th {\n",
       "        text-align: left;\n",
       "    }\n",
       "\n",
       "    .dataframe tbody tr th {\n",
       "        vertical-align: top;\n",
       "    }\n",
       "</style>\n",
       "<table border=\"1\" class=\"dataframe\">\n",
       "  <thead>\n",
       "    <tr style=\"text-align: right;\">\n",
       "      <th></th>\n",
       "      <th>Uke</th>\n",
       "      <th>År</th>\n",
       "      <th>Lokalitetsnummer</th>\n",
       "      <th>Lokalitetsnavn</th>\n",
       "      <th>Voksne hunnlus</th>\n",
       "      <th>Lus i bevegelige stadier</th>\n",
       "      <th>Fastsittende lus</th>\n",
       "      <th>Brakklagt</th>\n",
       "      <th>Kommune</th>\n",
       "      <th>Fylkesnummer</th>\n",
       "      <th>Fylke</th>\n",
       "      <th>Lat</th>\n",
       "      <th>Lon</th>\n",
       "      <th>Lusegrense uke</th>\n",
       "      <th>Over lusegrense uke</th>\n",
       "      <th>Sjøtemperatur</th>\n",
       "    </tr>\n",
       "  </thead>\n",
       "  <tbody>\n",
       "    <tr>\n",
       "      <th>0</th>\n",
       "      <td>42</td>\n",
       "      <td>2017</td>\n",
       "      <td>15196</td>\n",
       "      <td>AGA Ø</td>\n",
       "      <td>0.00</td>\n",
       "      <td>0.58</td>\n",
       "      <td>0.10</td>\n",
       "      <td>Nei</td>\n",
       "      <td>BØMLO</td>\n",
       "      <td>12.0</td>\n",
       "      <td>Hordaland</td>\n",
       "      <td>59.845100</td>\n",
       "      <td>5.261367</td>\n",
       "      <td>0.5</td>\n",
       "      <td>Nei</td>\n",
       "      <td>13.1</td>\n",
       "    </tr>\n",
       "    <tr>\n",
       "      <th>1</th>\n",
       "      <td>42</td>\n",
       "      <td>2017</td>\n",
       "      <td>12067</td>\n",
       "      <td>ALDALEN</td>\n",
       "      <td>0.19</td>\n",
       "      <td>0.33</td>\n",
       "      <td>0.00</td>\n",
       "      <td>Nei</td>\n",
       "      <td>OS I HORDALAND</td>\n",
       "      <td>12.0</td>\n",
       "      <td>Hordaland</td>\n",
       "      <td>60.249950</td>\n",
       "      <td>5.571917</td>\n",
       "      <td>0.5</td>\n",
       "      <td>Nei</td>\n",
       "      <td>10.0</td>\n",
       "    </tr>\n",
       "    <tr>\n",
       "      <th>2</th>\n",
       "      <td>42</td>\n",
       "      <td>2017</td>\n",
       "      <td>12982</td>\n",
       "      <td>ALDEØYNA</td>\n",
       "      <td>0.45</td>\n",
       "      <td>2.25</td>\n",
       "      <td>0.12</td>\n",
       "      <td>Nei</td>\n",
       "      <td>ASKVOLL</td>\n",
       "      <td>14.0</td>\n",
       "      <td>Sogn og Fjordane</td>\n",
       "      <td>61.310249</td>\n",
       "      <td>4.769050</td>\n",
       "      <td>0.5</td>\n",
       "      <td>Nei</td>\n",
       "      <td>13.2</td>\n",
       "    </tr>\n",
       "  </tbody>\n",
       "</table>\n",
       "</div>"
      ],
      "text/plain": [
       "   Uke    År  Lokalitetsnummer Lokalitetsnavn  Voksne hunnlus  \\\n",
       "0   42  2017             15196          AGA Ø            0.00   \n",
       "1   42  2017             12067        ALDALEN            0.19   \n",
       "2   42  2017             12982       ALDEØYNA            0.45   \n",
       "\n",
       "   Lus i bevegelige stadier  Fastsittende lus Brakklagt         Kommune  \\\n",
       "0                      0.58              0.10       Nei           BØMLO   \n",
       "1                      0.33              0.00       Nei  OS I HORDALAND   \n",
       "2                      2.25              0.12       Nei         ASKVOLL   \n",
       "\n",
       "   Fylkesnummer             Fylke        Lat       Lon Lusegrense uke  \\\n",
       "0          12.0         Hordaland  59.845100  5.261367            0.5   \n",
       "1          12.0         Hordaland  60.249950  5.571917            0.5   \n",
       "2          14.0  Sogn og Fjordane  61.310249  4.769050            0.5   \n",
       "\n",
       "  Over lusegrense uke  Sjøtemperatur  \n",
       "0                 Nei           13.1  \n",
       "1                 Nei           10.0  \n",
       "2                 Nei           13.2  "
      ]
     },
     "execution_count": 102,
     "metadata": {},
     "output_type": "execute_result"
    }
   ],
   "source": [
    "df.head(n=3)"
   ]
  },
  {
   "cell_type": "code",
   "execution_count": 103,
   "metadata": {},
   "outputs": [
    {
     "data": {
      "text/html": [
       "<div>\n",
       "<style>\n",
       "    .dataframe thead tr:only-child th {\n",
       "        text-align: right;\n",
       "    }\n",
       "\n",
       "    .dataframe thead th {\n",
       "        text-align: left;\n",
       "    }\n",
       "\n",
       "    .dataframe tbody tr th {\n",
       "        vertical-align: top;\n",
       "    }\n",
       "</style>\n",
       "<table border=\"1\" class=\"dataframe\">\n",
       "  <thead>\n",
       "    <tr style=\"text-align: right;\">\n",
       "      <th></th>\n",
       "      <th>Uke</th>\n",
       "      <th>År</th>\n",
       "      <th>Lokalitetsnummer</th>\n",
       "      <th>Lokalitetsnavn</th>\n",
       "      <th>Voksne hunnlus</th>\n",
       "      <th>Lus i bevegelige stadier</th>\n",
       "      <th>Fastsittende lus</th>\n",
       "      <th>Brakklagt</th>\n",
       "      <th>Kommune</th>\n",
       "      <th>Fylkesnummer</th>\n",
       "      <th>Fylke</th>\n",
       "      <th>Lat</th>\n",
       "      <th>Lon</th>\n",
       "      <th>Lusegrense uke</th>\n",
       "      <th>Over lusegrense uke</th>\n",
       "      <th>Sjøtemperatur</th>\n",
       "    </tr>\n",
       "  </thead>\n",
       "  <tbody>\n",
       "    <tr>\n",
       "      <th>61754</th>\n",
       "      <td>1</td>\n",
       "      <td>2017</td>\n",
       "      <td>37857</td>\n",
       "      <td>NaN</td>\n",
       "      <td>NaN</td>\n",
       "      <td>NaN</td>\n",
       "      <td>NaN</td>\n",
       "      <td>Ja</td>\n",
       "      <td>NaN</td>\n",
       "      <td>NaN</td>\n",
       "      <td>NaN</td>\n",
       "      <td>NaN</td>\n",
       "      <td>NaN</td>\n",
       "      <td>Ukjent</td>\n",
       "      <td>Ukjent</td>\n",
       "      <td>NaN</td>\n",
       "    </tr>\n",
       "    <tr>\n",
       "      <th>61755</th>\n",
       "      <td>1</td>\n",
       "      <td>2017</td>\n",
       "      <td>37937</td>\n",
       "      <td>NaN</td>\n",
       "      <td>NaN</td>\n",
       "      <td>NaN</td>\n",
       "      <td>NaN</td>\n",
       "      <td>Ja</td>\n",
       "      <td>NaN</td>\n",
       "      <td>NaN</td>\n",
       "      <td>NaN</td>\n",
       "      <td>NaN</td>\n",
       "      <td>NaN</td>\n",
       "      <td>Ukjent</td>\n",
       "      <td>Ukjent</td>\n",
       "      <td>NaN</td>\n",
       "    </tr>\n",
       "    <tr>\n",
       "      <th>61756</th>\n",
       "      <td>1</td>\n",
       "      <td>2017</td>\n",
       "      <td>37877</td>\n",
       "      <td>NaN</td>\n",
       "      <td>NaN</td>\n",
       "      <td>NaN</td>\n",
       "      <td>NaN</td>\n",
       "      <td>Ja</td>\n",
       "      <td>NaN</td>\n",
       "      <td>NaN</td>\n",
       "      <td>NaN</td>\n",
       "      <td>NaN</td>\n",
       "      <td>NaN</td>\n",
       "      <td>Ukjent</td>\n",
       "      <td>Ukjent</td>\n",
       "      <td>NaN</td>\n",
       "    </tr>\n",
       "  </tbody>\n",
       "</table>\n",
       "</div>"
      ],
      "text/plain": [
       "       Uke    År  Lokalitetsnummer Lokalitetsnavn  Voksne hunnlus  \\\n",
       "61754    1  2017             37857            NaN             NaN   \n",
       "61755    1  2017             37937            NaN             NaN   \n",
       "61756    1  2017             37877            NaN             NaN   \n",
       "\n",
       "       Lus i bevegelige stadier  Fastsittende lus Brakklagt Kommune  \\\n",
       "61754                       NaN               NaN        Ja     NaN   \n",
       "61755                       NaN               NaN        Ja     NaN   \n",
       "61756                       NaN               NaN        Ja     NaN   \n",
       "\n",
       "       Fylkesnummer Fylke  Lat  Lon Lusegrense uke Over lusegrense uke  \\\n",
       "61754           NaN   NaN  NaN  NaN         Ukjent              Ukjent   \n",
       "61755           NaN   NaN  NaN  NaN         Ukjent              Ukjent   \n",
       "61756           NaN   NaN  NaN  NaN         Ukjent              Ukjent   \n",
       "\n",
       "       Sjøtemperatur  \n",
       "61754            NaN  \n",
       "61755            NaN  \n",
       "61756            NaN  "
      ]
     },
     "execution_count": 103,
     "metadata": {},
     "output_type": "execute_result"
    }
   ],
   "source": [
    "df.tail(n=3)"
   ]
  },
  {
   "cell_type": "markdown",
   "metadata": {},
   "source": [
    "### Hvilke kolonner har vi og hva slags datatype har de?\n",
    "Og hvor mange verdier har hver kolonne?"
   ]
  },
  {
   "cell_type": "code",
   "execution_count": 107,
   "metadata": {},
   "outputs": [
    {
     "data": {
      "text/plain": [
       "Uke                           int64\n",
       "År                            int64\n",
       "Lokalitetsnummer              int64\n",
       "Lokalitetsnavn               object\n",
       "Voksne hunnlus              float64\n",
       "Lus i bevegelige stadier    float64\n",
       "Fastsittende lus            float64\n",
       "Brakklagt                    object\n",
       "Kommune                      object\n",
       "Fylkesnummer                float64\n",
       "Fylke                        object\n",
       "Lat                         float64\n",
       "Lon                         float64\n",
       "Lusegrense uke               object\n",
       "Over lusegrense uke          object\n",
       "Sjøtemperatur               float64\n",
       "dtype: object"
      ]
     },
     "execution_count": 107,
     "metadata": {},
     "output_type": "execute_result"
    }
   ],
   "source": [
    "df.dtypes"
   ]
  },
  {
   "cell_type": "markdown",
   "metadata": {},
   "source": [
    "**Forklaring**: `int64` betyr heltall, `object` betyr som regel at det er tekst, `float64` betyr et tall med desimaler. "
   ]
  },
  {
   "cell_type": "markdown",
   "metadata": {},
   "source": [
    "### Fjern kolonner du ikke trenger\n",
    "Gjør det det mer oversiktlig å jobbe med. Her kan vi fjerne `lat` og `lon` kolonnene som angir kartreferanse."
   ]
  },
  {
   "cell_type": "code",
   "execution_count": 108,
   "metadata": {
    "collapsed": true
   },
   "outputs": [],
   "source": [
    "df = df.drop(['Lat', 'Lon'], axis='columns')"
   ]
  },
  {
   "cell_type": "markdown",
   "metadata": {},
   "source": [
    "**Forklaring**: Her lager vi en ny DataFrame med samme navnet, der vi dropper kolonnene Lat og Lon. \n",
    "`axis=columns` betyr at det er kolonner vi skal droppe, ikke rader."
   ]
  },
  {
   "cell_type": "markdown",
   "metadata": {},
   "source": [
    "### Endre kolonnenavn\n",
    "Noen ganger har kolonnene rare og lange navn, la oss lage dem kortere. \n",
    "Vi lager et objekt som viser hvilke kolonner vi vil endre navn på og til hva."
   ]
  },
  {
   "cell_type": "code",
   "execution_count": 109,
   "metadata": {
    "collapsed": true
   },
   "outputs": [],
   "source": [
    "df = df.rename(columns={'Voksne hunnlus': 'hunnlus', 'Sjøtemperatur': 'sjotemp'})"
   ]
  },
  {
   "cell_type": "markdown",
   "metadata": {},
   "source": [
    "### Har vi manglende data?\n",
    "Har vi rader uten data, eller kolonner uten data?\n",
    "\n",
    "La oss først se på de 5 første radene."
   ]
  },
  {
   "cell_type": "code",
   "execution_count": 110,
   "metadata": {},
   "outputs": [
    {
     "data": {
      "text/html": [
       "<div>\n",
       "<style>\n",
       "    .dataframe thead tr:only-child th {\n",
       "        text-align: right;\n",
       "    }\n",
       "\n",
       "    .dataframe thead th {\n",
       "        text-align: left;\n",
       "    }\n",
       "\n",
       "    .dataframe tbody tr th {\n",
       "        vertical-align: top;\n",
       "    }\n",
       "</style>\n",
       "<table border=\"1\" class=\"dataframe\">\n",
       "  <thead>\n",
       "    <tr style=\"text-align: right;\">\n",
       "      <th></th>\n",
       "      <th>Uke</th>\n",
       "      <th>År</th>\n",
       "      <th>Lokalitetsnummer</th>\n",
       "      <th>Lokalitetsnavn</th>\n",
       "      <th>hunnlus</th>\n",
       "      <th>Lus i bevegelige stadier</th>\n",
       "      <th>Fastsittende lus</th>\n",
       "      <th>Brakklagt</th>\n",
       "      <th>Kommune</th>\n",
       "      <th>Fylkesnummer</th>\n",
       "      <th>Fylke</th>\n",
       "      <th>Lusegrense uke</th>\n",
       "      <th>Over lusegrense uke</th>\n",
       "      <th>sjotemp</th>\n",
       "    </tr>\n",
       "  </thead>\n",
       "  <tbody>\n",
       "    <tr>\n",
       "      <th>0</th>\n",
       "      <td>42</td>\n",
       "      <td>2017</td>\n",
       "      <td>15196</td>\n",
       "      <td>AGA Ø</td>\n",
       "      <td>0.00</td>\n",
       "      <td>0.58</td>\n",
       "      <td>0.10</td>\n",
       "      <td>Nei</td>\n",
       "      <td>BØMLO</td>\n",
       "      <td>12.0</td>\n",
       "      <td>Hordaland</td>\n",
       "      <td>0.5</td>\n",
       "      <td>Nei</td>\n",
       "      <td>13.1</td>\n",
       "    </tr>\n",
       "    <tr>\n",
       "      <th>1</th>\n",
       "      <td>42</td>\n",
       "      <td>2017</td>\n",
       "      <td>12067</td>\n",
       "      <td>ALDALEN</td>\n",
       "      <td>0.19</td>\n",
       "      <td>0.33</td>\n",
       "      <td>0.00</td>\n",
       "      <td>Nei</td>\n",
       "      <td>OS I HORDALAND</td>\n",
       "      <td>12.0</td>\n",
       "      <td>Hordaland</td>\n",
       "      <td>0.5</td>\n",
       "      <td>Nei</td>\n",
       "      <td>10.0</td>\n",
       "    </tr>\n",
       "    <tr>\n",
       "      <th>2</th>\n",
       "      <td>42</td>\n",
       "      <td>2017</td>\n",
       "      <td>12982</td>\n",
       "      <td>ALDEØYNA</td>\n",
       "      <td>0.45</td>\n",
       "      <td>2.25</td>\n",
       "      <td>0.12</td>\n",
       "      <td>Nei</td>\n",
       "      <td>ASKVOLL</td>\n",
       "      <td>14.0</td>\n",
       "      <td>Sogn og Fjordane</td>\n",
       "      <td>0.5</td>\n",
       "      <td>Nei</td>\n",
       "      <td>13.2</td>\n",
       "    </tr>\n",
       "    <tr>\n",
       "      <th>3</th>\n",
       "      <td>42</td>\n",
       "      <td>2017</td>\n",
       "      <td>11756</td>\n",
       "      <td>ALLERSHOLMEN</td>\n",
       "      <td>NaN</td>\n",
       "      <td>NaN</td>\n",
       "      <td>NaN</td>\n",
       "      <td>Ja</td>\n",
       "      <td>AUSTRHEIM</td>\n",
       "      <td>12.0</td>\n",
       "      <td>Hordaland</td>\n",
       "      <td>0.5</td>\n",
       "      <td>NaN</td>\n",
       "      <td>NaN</td>\n",
       "    </tr>\n",
       "    <tr>\n",
       "      <th>4</th>\n",
       "      <td>42</td>\n",
       "      <td>2017</td>\n",
       "      <td>13271</td>\n",
       "      <td>ALMURDEN</td>\n",
       "      <td>NaN</td>\n",
       "      <td>NaN</td>\n",
       "      <td>NaN</td>\n",
       "      <td>Ja</td>\n",
       "      <td>FLATANGER</td>\n",
       "      <td>17.0</td>\n",
       "      <td>Nord-Trøndelag</td>\n",
       "      <td>0.5</td>\n",
       "      <td>NaN</td>\n",
       "      <td>NaN</td>\n",
       "    </tr>\n",
       "  </tbody>\n",
       "</table>\n",
       "</div>"
      ],
      "text/plain": [
       "   Uke    År  Lokalitetsnummer Lokalitetsnavn  hunnlus  \\\n",
       "0   42  2017             15196          AGA Ø     0.00   \n",
       "1   42  2017             12067        ALDALEN     0.19   \n",
       "2   42  2017             12982       ALDEØYNA     0.45   \n",
       "3   42  2017             11756   ALLERSHOLMEN      NaN   \n",
       "4   42  2017             13271       ALMURDEN      NaN   \n",
       "\n",
       "   Lus i bevegelige stadier  Fastsittende lus Brakklagt         Kommune  \\\n",
       "0                      0.58              0.10       Nei           BØMLO   \n",
       "1                      0.33              0.00       Nei  OS I HORDALAND   \n",
       "2                      2.25              0.12       Nei         ASKVOLL   \n",
       "3                       NaN               NaN        Ja       AUSTRHEIM   \n",
       "4                       NaN               NaN        Ja       FLATANGER   \n",
       "\n",
       "   Fylkesnummer             Fylke Lusegrense uke Over lusegrense uke  sjotemp  \n",
       "0          12.0         Hordaland            0.5                 Nei     13.1  \n",
       "1          12.0         Hordaland            0.5                 Nei     10.0  \n",
       "2          14.0  Sogn og Fjordane            0.5                 Nei     13.2  \n",
       "3          12.0         Hordaland            0.5                 NaN      NaN  \n",
       "4          17.0    Nord-Trøndelag            0.5                 NaN      NaN  "
      ]
     },
     "execution_count": 110,
     "metadata": {},
     "output_type": "execute_result"
    }
   ],
   "source": [
    "df.head(n=5)"
   ]
  },
  {
   "cell_type": "markdown",
   "metadata": {},
   "source": [
    "Allerede her ser vi gjengangeren `NaN` som betyr `Not a Number`. Altså at denne cellen ikke har en numerisk verdi (slik som de andre i kolonnen)"
   ]
  },
  {
   "cell_type": "markdown",
   "metadata": {},
   "source": [
    "La oss se hvor mange rader som mangler verdi (`isnull`) i hunnlus-feltet"
   ]
  },
  {
   "cell_type": "code",
   "execution_count": 91,
   "metadata": {},
   "outputs": [
    {
     "data": {
      "text/plain": [
       "39567"
      ]
     },
     "execution_count": 91,
     "metadata": {},
     "output_type": "execute_result"
    }
   ],
   "source": [
    "df['hunnlus'].isnull().sum()"
   ]
  },
  {
   "cell_type": "markdown",
   "metadata": {},
   "source": [
    "Oi, nokså mange uten verdi. Trolig har ikke de rapportert lusetall den uka. Vi skal se på det senere."
   ]
  },
  {
   "cell_type": "markdown",
   "metadata": {},
   "source": [
    "### Fyll inn manglende data\n",
    "Vi ser på et nytt eksempel, en Excel-fil der det er manglende data i mange celler."
   ]
  },
  {
   "cell_type": "code",
   "execution_count": 111,
   "metadata": {},
   "outputs": [
    {
     "data": {
      "text/html": [
       "<div>\n",
       "<style>\n",
       "    .dataframe thead tr:only-child th {\n",
       "        text-align: right;\n",
       "    }\n",
       "\n",
       "    .dataframe thead th {\n",
       "        text-align: left;\n",
       "    }\n",
       "\n",
       "    .dataframe tbody tr th {\n",
       "        vertical-align: top;\n",
       "    }\n",
       "</style>\n",
       "<table border=\"1\" class=\"dataframe\">\n",
       "  <thead>\n",
       "    <tr style=\"text-align: right;\">\n",
       "      <th></th>\n",
       "      <th>Fylke</th>\n",
       "      <th>Kommune</th>\n",
       "      <th>Verdi</th>\n",
       "    </tr>\n",
       "  </thead>\n",
       "  <tbody>\n",
       "    <tr>\n",
       "      <th>0</th>\n",
       "      <td>Hordaland</td>\n",
       "      <td>Bergen</td>\n",
       "      <td>100</td>\n",
       "    </tr>\n",
       "    <tr>\n",
       "      <th>1</th>\n",
       "      <td>NaN</td>\n",
       "      <td>Askøy</td>\n",
       "      <td>234</td>\n",
       "    </tr>\n",
       "    <tr>\n",
       "      <th>2</th>\n",
       "      <td>NaN</td>\n",
       "      <td>Fjell</td>\n",
       "      <td>53</td>\n",
       "    </tr>\n",
       "    <tr>\n",
       "      <th>3</th>\n",
       "      <td>NaN</td>\n",
       "      <td>Sund</td>\n",
       "      <td>4</td>\n",
       "    </tr>\n",
       "    <tr>\n",
       "      <th>4</th>\n",
       "      <td>Rogaland</td>\n",
       "      <td>Stavanger</td>\n",
       "      <td>34</td>\n",
       "    </tr>\n",
       "    <tr>\n",
       "      <th>5</th>\n",
       "      <td>NaN</td>\n",
       "      <td>Sandnes</td>\n",
       "      <td>343</td>\n",
       "    </tr>\n",
       "    <tr>\n",
       "      <th>6</th>\n",
       "      <td>NaN</td>\n",
       "      <td>Sauda</td>\n",
       "      <td>54</td>\n",
       "    </tr>\n",
       "    <tr>\n",
       "      <th>7</th>\n",
       "      <td>NaN</td>\n",
       "      <td>Haugesund</td>\n",
       "      <td>34</td>\n",
       "    </tr>\n",
       "    <tr>\n",
       "      <th>8</th>\n",
       "      <td>Sogn og Fjordane</td>\n",
       "      <td>Førde</td>\n",
       "      <td>43</td>\n",
       "    </tr>\n",
       "    <tr>\n",
       "      <th>9</th>\n",
       "      <td>NaN</td>\n",
       "      <td>Florø</td>\n",
       "      <td>23</td>\n",
       "    </tr>\n",
       "    <tr>\n",
       "      <th>10</th>\n",
       "      <td>NaN</td>\n",
       "      <td>Jølster</td>\n",
       "      <td>12</td>\n",
       "    </tr>\n",
       "    <tr>\n",
       "      <th>11</th>\n",
       "      <td>NaN</td>\n",
       "      <td>Stryn</td>\n",
       "      <td>34</td>\n",
       "    </tr>\n",
       "  </tbody>\n",
       "</table>\n",
       "</div>"
      ],
      "text/plain": [
       "               Fylke    Kommune  Verdi\n",
       "0          Hordaland     Bergen    100\n",
       "1                NaN      Askøy    234\n",
       "2                NaN      Fjell     53\n",
       "3                NaN       Sund      4\n",
       "4           Rogaland  Stavanger     34\n",
       "5                NaN    Sandnes    343\n",
       "6                NaN      Sauda     54\n",
       "7                NaN  Haugesund     34\n",
       "8   Sogn og Fjordane      Førde     43\n",
       "9                NaN      Florø     23\n",
       "10               NaN    Jølster     12\n",
       "11               NaN      Stryn     34"
      ]
     },
     "execution_count": 111,
     "metadata": {},
     "output_type": "execute_result"
    }
   ],
   "source": [
    "df2 = pd.read_excel('data/bord4_20171028_kommunedummy.xlsx')\n",
    "df2"
   ]
  },
  {
   "cell_type": "markdown",
   "metadata": {},
   "source": [
    "Her ser vi et typisk mønster der kun første raden i hvert fylke har verdi i fylkekolonnen. For å kunne behandle disse dataene i Pandas må alle ha verdi. Så la oss fylle celler med tomme verdier (`fillna`) nedover, en såkalt Forward Fill eller `ffill`"
   ]
  },
  {
   "cell_type": "code",
   "execution_count": 112,
   "metadata": {},
   "outputs": [
    {
     "data": {
      "text/html": [
       "<div>\n",
       "<style>\n",
       "    .dataframe thead tr:only-child th {\n",
       "        text-align: right;\n",
       "    }\n",
       "\n",
       "    .dataframe thead th {\n",
       "        text-align: left;\n",
       "    }\n",
       "\n",
       "    .dataframe tbody tr th {\n",
       "        vertical-align: top;\n",
       "    }\n",
       "</style>\n",
       "<table border=\"1\" class=\"dataframe\">\n",
       "  <thead>\n",
       "    <tr style=\"text-align: right;\">\n",
       "      <th></th>\n",
       "      <th>Fylke</th>\n",
       "      <th>Kommune</th>\n",
       "      <th>Verdi</th>\n",
       "    </tr>\n",
       "  </thead>\n",
       "  <tbody>\n",
       "    <tr>\n",
       "      <th>0</th>\n",
       "      <td>Hordaland</td>\n",
       "      <td>Bergen</td>\n",
       "      <td>100</td>\n",
       "    </tr>\n",
       "    <tr>\n",
       "      <th>1</th>\n",
       "      <td>Hordaland</td>\n",
       "      <td>Askøy</td>\n",
       "      <td>234</td>\n",
       "    </tr>\n",
       "    <tr>\n",
       "      <th>2</th>\n",
       "      <td>Hordaland</td>\n",
       "      <td>Fjell</td>\n",
       "      <td>53</td>\n",
       "    </tr>\n",
       "    <tr>\n",
       "      <th>3</th>\n",
       "      <td>Hordaland</td>\n",
       "      <td>Sund</td>\n",
       "      <td>4</td>\n",
       "    </tr>\n",
       "    <tr>\n",
       "      <th>4</th>\n",
       "      <td>Rogaland</td>\n",
       "      <td>Stavanger</td>\n",
       "      <td>34</td>\n",
       "    </tr>\n",
       "    <tr>\n",
       "      <th>5</th>\n",
       "      <td>Rogaland</td>\n",
       "      <td>Sandnes</td>\n",
       "      <td>343</td>\n",
       "    </tr>\n",
       "    <tr>\n",
       "      <th>6</th>\n",
       "      <td>Rogaland</td>\n",
       "      <td>Sauda</td>\n",
       "      <td>54</td>\n",
       "    </tr>\n",
       "    <tr>\n",
       "      <th>7</th>\n",
       "      <td>Rogaland</td>\n",
       "      <td>Haugesund</td>\n",
       "      <td>34</td>\n",
       "    </tr>\n",
       "    <tr>\n",
       "      <th>8</th>\n",
       "      <td>Sogn og Fjordane</td>\n",
       "      <td>Førde</td>\n",
       "      <td>43</td>\n",
       "    </tr>\n",
       "    <tr>\n",
       "      <th>9</th>\n",
       "      <td>Sogn og Fjordane</td>\n",
       "      <td>Florø</td>\n",
       "      <td>23</td>\n",
       "    </tr>\n",
       "    <tr>\n",
       "      <th>10</th>\n",
       "      <td>Sogn og Fjordane</td>\n",
       "      <td>Jølster</td>\n",
       "      <td>12</td>\n",
       "    </tr>\n",
       "    <tr>\n",
       "      <th>11</th>\n",
       "      <td>Sogn og Fjordane</td>\n",
       "      <td>Stryn</td>\n",
       "      <td>34</td>\n",
       "    </tr>\n",
       "  </tbody>\n",
       "</table>\n",
       "</div>"
      ],
      "text/plain": [
       "               Fylke    Kommune  Verdi\n",
       "0          Hordaland     Bergen    100\n",
       "1          Hordaland      Askøy    234\n",
       "2          Hordaland      Fjell     53\n",
       "3          Hordaland       Sund      4\n",
       "4           Rogaland  Stavanger     34\n",
       "5           Rogaland    Sandnes    343\n",
       "6           Rogaland      Sauda     54\n",
       "7           Rogaland  Haugesund     34\n",
       "8   Sogn og Fjordane      Førde     43\n",
       "9   Sogn og Fjordane      Florø     23\n",
       "10  Sogn og Fjordane    Jølster     12\n",
       "11  Sogn og Fjordane      Stryn     34"
      ]
     },
     "execution_count": 112,
     "metadata": {},
     "output_type": "execute_result"
    }
   ],
   "source": [
    "df2['Fylke'] = df2['Fylke'].fillna(method='ffill')\n",
    "df2"
   ]
  },
  {
   "cell_type": "markdown",
   "metadata": {},
   "source": [
    "### Normaliser dataene \n",
    "Er det mennesker som har punchet dataene du har?\n",
    "Da er det garantert ord som er skrevet NESTEN likt og som roter til data-analysen din.\n",
    "\n",
    "Vi bruker her et datasett fra UiBs medborgerpanel hvor velgernes holdninger til andre partier er angitt. \n",
    "Datasettet er satt sammen av flere Excel-filer, laget på ulikt tidspunkt. \n",
    "\n",
    "La oss se på dataene"
   ]
  },
  {
   "cell_type": "code",
   "execution_count": 125,
   "metadata": {},
   "outputs": [
    {
     "data": {
      "text/html": [
       "<div>\n",
       "<style>\n",
       "    .dataframe thead tr:only-child th {\n",
       "        text-align: right;\n",
       "    }\n",
       "\n",
       "    .dataframe thead th {\n",
       "        text-align: left;\n",
       "    }\n",
       "\n",
       "    .dataframe tbody tr th {\n",
       "        vertical-align: top;\n",
       "    }\n",
       "</style>\n",
       "<table border=\"1\" class=\"dataframe\">\n",
       "  <thead>\n",
       "    <tr style=\"text-align: right;\">\n",
       "      <th></th>\n",
       "      <th>runde_nr</th>\n",
       "      <th>parti_valgt_2013</th>\n",
       "      <th>omtaler_parti</th>\n",
       "      <th>kategori</th>\n",
       "      <th>andel</th>\n",
       "      <th>konfidensintervall_fra</th>\n",
       "      <th>konfidensintervall_til</th>\n",
       "      <th>N</th>\n",
       "    </tr>\n",
       "  </thead>\n",
       "  <tbody>\n",
       "    <tr>\n",
       "      <th>0</th>\n",
       "      <td>1</td>\n",
       "      <td>FRP</td>\n",
       "      <td>KRF</td>\n",
       "      <td>Misliker</td>\n",
       "      <td>0.513462</td>\n",
       "      <td>0.4703669</td>\n",
       "      <td>0.5563569</td>\n",
       "      <td>520</td>\n",
       "    </tr>\n",
       "    <tr>\n",
       "      <th>1</th>\n",
       "      <td>1</td>\n",
       "      <td>FRP</td>\n",
       "      <td>KRF</td>\n",
       "      <td>Nøytral</td>\n",
       "      <td>0.259615</td>\n",
       "      <td>0.223626</td>\n",
       "      <td>0.2991649</td>\n",
       "      <td>520</td>\n",
       "    </tr>\n",
       "    <tr>\n",
       "      <th>2</th>\n",
       "      <td>1</td>\n",
       "      <td>FRP</td>\n",
       "      <td>KRF</td>\n",
       "      <td>Liker</td>\n",
       "      <td>0.226923</td>\n",
       "      <td>0.1928411</td>\n",
       "      <td>0.2650506</td>\n",
       "      <td>520</td>\n",
       "    </tr>\n",
       "    <tr>\n",
       "      <th>3</th>\n",
       "      <td>2</td>\n",
       "      <td>FRP</td>\n",
       "      <td>KRF</td>\n",
       "      <td>Misliker</td>\n",
       "      <td>0.606061</td>\n",
       "      <td>0.5545943</td>\n",
       "      <td>0.6552765</td>\n",
       "      <td>363</td>\n",
       "    </tr>\n",
       "    <tr>\n",
       "      <th>4</th>\n",
       "      <td>2</td>\n",
       "      <td>FRP</td>\n",
       "      <td>KRF</td>\n",
       "      <td>Nøytral</td>\n",
       "      <td>0.170799</td>\n",
       "      <td>0.135331</td>\n",
       "      <td>0.2132696</td>\n",
       "      <td>363</td>\n",
       "    </tr>\n",
       "  </tbody>\n",
       "</table>\n",
       "</div>"
      ],
      "text/plain": [
       "   runde_nr parti_valgt_2013 omtaler_parti  kategori     andel  \\\n",
       "0         1              FRP           KRF  Misliker  0.513462   \n",
       "1         1              FRP           KRF   Nøytral  0.259615   \n",
       "2         1              FRP           KRF     Liker  0.226923   \n",
       "3         2              FRP           KRF  Misliker  0.606061   \n",
       "4         2              FRP           KRF   Nøytral  0.170799   \n",
       "\n",
       "  konfidensintervall_fra konfidensintervall_til    N  \n",
       "0              0.4703669              0.5563569  520  \n",
       "1               0.223626              0.2991649  520  \n",
       "2              0.1928411              0.2650506  520  \n",
       "3              0.5545943              0.6552765  363  \n",
       "4               0.135331              0.2132696  363  "
      ]
     },
     "execution_count": 125,
     "metadata": {},
     "output_type": "execute_result"
    }
   ],
   "source": [
    "df = pd.read_csv('data/uib_medborgerpanelet_20170601_partiomparti.csv')\n",
    "df.head()"
   ]
  },
  {
   "cell_type": "markdown",
   "metadata": {},
   "source": [
    "Det er ofte lurt å se hva slags unike verdier som finnes i en kolonne. Det kan du gjøre slik."
   ]
  },
  {
   "cell_type": "code",
   "execution_count": 126,
   "metadata": {},
   "outputs": [
    {
     "data": {
      "text/html": [
       "<div>\n",
       "<style>\n",
       "    .dataframe thead tr:only-child th {\n",
       "        text-align: right;\n",
       "    }\n",
       "\n",
       "    .dataframe thead th {\n",
       "        text-align: left;\n",
       "    }\n",
       "\n",
       "    .dataframe tbody tr th {\n",
       "        vertical-align: top;\n",
       "    }\n",
       "</style>\n",
       "<table border=\"1\" class=\"dataframe\">\n",
       "  <thead>\n",
       "    <tr style=\"text-align: right;\">\n",
       "      <th></th>\n",
       "      <th>omtaler_parti</th>\n",
       "    </tr>\n",
       "  </thead>\n",
       "  <tbody>\n",
       "    <tr>\n",
       "      <th>AP</th>\n",
       "      <td>192</td>\n",
       "    </tr>\n",
       "    <tr>\n",
       "      <th>Ap</th>\n",
       "      <td>24</td>\n",
       "    </tr>\n",
       "    <tr>\n",
       "      <th>FRP</th>\n",
       "      <td>192</td>\n",
       "    </tr>\n",
       "    <tr>\n",
       "      <th>FrP</th>\n",
       "      <td>24</td>\n",
       "    </tr>\n",
       "    <tr>\n",
       "      <th>H</th>\n",
       "      <td>48</td>\n",
       "    </tr>\n",
       "    <tr>\n",
       "      <th>Høyre</th>\n",
       "      <td>168</td>\n",
       "    </tr>\n",
       "    <tr>\n",
       "      <th>KRF</th>\n",
       "      <td>192</td>\n",
       "    </tr>\n",
       "    <tr>\n",
       "      <th>KrF</th>\n",
       "      <td>24</td>\n",
       "    </tr>\n",
       "    <tr>\n",
       "      <th>MDG</th>\n",
       "      <td>216</td>\n",
       "    </tr>\n",
       "    <tr>\n",
       "      <th>SP</th>\n",
       "      <td>192</td>\n",
       "    </tr>\n",
       "    <tr>\n",
       "      <th>SV</th>\n",
       "      <td>216</td>\n",
       "    </tr>\n",
       "    <tr>\n",
       "      <th>Sp</th>\n",
       "      <td>24</td>\n",
       "    </tr>\n",
       "    <tr>\n",
       "      <th>V</th>\n",
       "      <td>48</td>\n",
       "    </tr>\n",
       "    <tr>\n",
       "      <th>Venstre</th>\n",
       "      <td>168</td>\n",
       "    </tr>\n",
       "  </tbody>\n",
       "</table>\n",
       "</div>"
      ],
      "text/plain": [
       "         omtaler_parti\n",
       "AP                 192\n",
       "Ap                  24\n",
       "FRP                192\n",
       "FrP                 24\n",
       "H                   48\n",
       "Høyre              168\n",
       "KRF                192\n",
       "KrF                 24\n",
       "MDG                216\n",
       "SP                 192\n",
       "SV                 216\n",
       "Sp                  24\n",
       "V                   48\n",
       "Venstre            168"
      ]
     },
     "execution_count": 126,
     "metadata": {},
     "output_type": "execute_result"
    }
   ],
   "source": [
    "df['omtaler_parti'].value_counts().to_frame().sort_index()"
   ]
  },
  {
   "cell_type": "markdown",
   "metadata": {},
   "source": [
    "Her var det mye forskjellig! Legg merke til at partiene er skrevet på forskjellige måter. Det betyr trøbbel om vi skal gruppere senere. "
   ]
  },
  {
   "cell_type": "markdown",
   "metadata": {},
   "source": [
    "Vi må normalisere disse verdiene, dvs samle oss om en måte å skrive på partiene på.\n",
    "En måte å gjøre det på er å lage en fra-til liste med verdier."
   ]
  },
  {
   "cell_type": "code",
   "execution_count": 127,
   "metadata": {
    "collapsed": true
   },
   "outputs": [],
   "source": [
    "partimapping = {\n",
    "    'FRP': 'Frp',\n",
    "    'FrP': 'Frp',\n",
    "    'AP': 'Ap',\n",
    "    'Høyre': 'H',\n",
    "    'SP': 'Sp',\n",
    "    'Venstre': 'V',\n",
    "    'KRF': 'KrF'  \n",
    "}"
   ]
  },
  {
   "cell_type": "markdown",
   "metadata": {},
   "source": [
    "Så må vi fortelle Pandas at vi vil bytte ut innholdet i de tre kolonnene som inneholder partinavn med den riktige formen av partinavn."
   ]
  },
  {
   "cell_type": "code",
   "execution_count": 128,
   "metadata": {},
   "outputs": [],
   "source": [
    "df = df.replace({\n",
    "    'parti_valgt_2013': partimapping, \n",
    "    'omtaler_parti': partimapping}\n",
    ")"
   ]
  },
  {
   "cell_type": "markdown",
   "metadata": {},
   "source": [
    "Så tar vi igjen en sjekk på hvilke unike verdier vi har"
   ]
  },
  {
   "cell_type": "code",
   "execution_count": 129,
   "metadata": {},
   "outputs": [
    {
     "data": {
      "text/html": [
       "<div>\n",
       "<style>\n",
       "    .dataframe thead tr:only-child th {\n",
       "        text-align: right;\n",
       "    }\n",
       "\n",
       "    .dataframe thead th {\n",
       "        text-align: left;\n",
       "    }\n",
       "\n",
       "    .dataframe tbody tr th {\n",
       "        vertical-align: top;\n",
       "    }\n",
       "</style>\n",
       "<table border=\"1\" class=\"dataframe\">\n",
       "  <thead>\n",
       "    <tr style=\"text-align: right;\">\n",
       "      <th></th>\n",
       "      <th>omtaler_parti</th>\n",
       "    </tr>\n",
       "  </thead>\n",
       "  <tbody>\n",
       "    <tr>\n",
       "      <th>Ap</th>\n",
       "      <td>216</td>\n",
       "    </tr>\n",
       "    <tr>\n",
       "      <th>Frp</th>\n",
       "      <td>216</td>\n",
       "    </tr>\n",
       "    <tr>\n",
       "      <th>H</th>\n",
       "      <td>216</td>\n",
       "    </tr>\n",
       "    <tr>\n",
       "      <th>KrF</th>\n",
       "      <td>216</td>\n",
       "    </tr>\n",
       "    <tr>\n",
       "      <th>MDG</th>\n",
       "      <td>216</td>\n",
       "    </tr>\n",
       "    <tr>\n",
       "      <th>SV</th>\n",
       "      <td>216</td>\n",
       "    </tr>\n",
       "    <tr>\n",
       "      <th>Sp</th>\n",
       "      <td>216</td>\n",
       "    </tr>\n",
       "    <tr>\n",
       "      <th>V</th>\n",
       "      <td>216</td>\n",
       "    </tr>\n",
       "  </tbody>\n",
       "</table>\n",
       "</div>"
      ],
      "text/plain": [
       "     omtaler_parti\n",
       "Ap             216\n",
       "Frp            216\n",
       "H              216\n",
       "KrF            216\n",
       "MDG            216\n",
       "SV             216\n",
       "Sp             216\n",
       "V              216"
      ]
     },
     "execution_count": 129,
     "metadata": {},
     "output_type": "execute_result"
    }
   ],
   "source": [
    "df['omtaler_parti'].value_counts().to_frame().sort_index()"
   ]
  },
  {
   "cell_type": "markdown",
   "metadata": {},
   "source": [
    "Se der ja! Mye bedre. Kun en måte å skrive hvert parti på. Nå kan vi gå i gang med gruppering, pivotering og andre fancy ting"
   ]
  }
 ],
 "metadata": {
  "kernelspec": {
   "display_name": "Python 3",
   "language": "python",
   "name": "python3"
  },
  "language_info": {
   "codemirror_mode": {
    "name": "ipython",
    "version": 3
   },
   "file_extension": ".py",
   "mimetype": "text/x-python",
   "name": "python",
   "nbconvert_exporter": "python",
   "pygments_lexer": "ipython3",
   "version": "3.6.1"
  }
 },
 "nbformat": 4,
 "nbformat_minor": 2
}
